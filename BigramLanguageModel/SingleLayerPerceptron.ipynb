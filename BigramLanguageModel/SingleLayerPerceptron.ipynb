{
 "cells": [
  {
   "cell_type": "code",
   "execution_count": 1,
   "id": "1095a31c-d350-4faa-8639-0bc1f8bc99ef",
   "metadata": {},
   "outputs": [
    {
     "name": "stdout",
     "output_type": "stream",
     "text": [
      "Collecting torch\n",
      "  Using cached torch-2.2.2-cp312-none-macosx_10_9_x86_64.whl.metadata (25 kB)\n",
      "Collecting filelock (from torch)\n",
      "  Using cached filelock-3.17.0-py3-none-any.whl.metadata (2.9 kB)\n",
      "Requirement already satisfied: typing-extensions>=4.8.0 in /Library/Frameworks/Python.framework/Versions/3.12/lib/python3.12/site-packages (from torch) (4.12.2)\n",
      "Collecting sympy (from torch)\n",
      "  Using cached sympy-1.13.3-py3-none-any.whl.metadata (12 kB)\n",
      "Collecting networkx (from torch)\n",
      "  Using cached networkx-3.4.2-py3-none-any.whl.metadata (6.3 kB)\n",
      "Requirement already satisfied: jinja2 in /Library/Frameworks/Python.framework/Versions/3.12/lib/python3.12/site-packages (from torch) (3.1.5)\n",
      "Collecting fsspec (from torch)\n",
      "  Using cached fsspec-2025.2.0-py3-none-any.whl.metadata (11 kB)\n",
      "Requirement already satisfied: MarkupSafe>=2.0 in /Library/Frameworks/Python.framework/Versions/3.12/lib/python3.12/site-packages (from jinja2->torch) (3.0.2)\n",
      "Collecting mpmath<1.4,>=1.1.0 (from sympy->torch)\n",
      "  Using cached mpmath-1.3.0-py3-none-any.whl.metadata (8.6 kB)\n",
      "Using cached torch-2.2.2-cp312-none-macosx_10_9_x86_64.whl (150.8 MB)\n",
      "Using cached filelock-3.17.0-py3-none-any.whl (16 kB)\n",
      "Using cached fsspec-2025.2.0-py3-none-any.whl (184 kB)\n",
      "Using cached networkx-3.4.2-py3-none-any.whl (1.7 MB)\n",
      "Using cached sympy-1.13.3-py3-none-any.whl (6.2 MB)\n",
      "Using cached mpmath-1.3.0-py3-none-any.whl (536 kB)\n",
      "Installing collected packages: mpmath, sympy, networkx, fsspec, filelock, torch\n",
      "\u001b[33m  WARNING: The script isympy is installed in '/Library/Frameworks/Python.framework/Versions/3.12/bin' which is not on PATH.\n",
      "  Consider adding this directory to PATH or, if you prefer to suppress this warning, use --no-warn-script-location.\u001b[0m\u001b[33m\n",
      "\u001b[33m  WARNING: The scripts convert-caffe2-to-onnx, convert-onnx-to-caffe2 and torchrun are installed in '/Library/Frameworks/Python.framework/Versions/3.12/bin' which is not on PATH.\n",
      "  Consider adding this directory to PATH or, if you prefer to suppress this warning, use --no-warn-script-location.\u001b[0m\u001b[33m\n",
      "Successfully installed filelock-3.17.0 fsspec-2025.2.0 mpmath-1.3.0 networkx-3.4.2 sympy-1.13.3 torch-2.2.2\n",
      "Note: you may need to restart the kernel to use updated packages.\n"
     ]
    }
   ],
   "source": [
    "pip install torch"
   ]
  },
  {
   "cell_type": "code",
   "execution_count": 1,
   "id": "8c1df543-0c57-4408-ad1b-6af98466d1d0",
   "metadata": {},
   "outputs": [
    {
     "name": "stderr",
     "output_type": "stream",
     "text": [
      "/Library/Frameworks/Python.framework/Versions/3.12/lib/python3.12/site-packages/torch/nn/modules/transformer.py:20: UserWarning: Failed to initialize NumPy: No module named 'numpy' (Triggered internally at /Users/runner/work/pytorch/pytorch/pytorch/torch/csrc/utils/tensor_numpy.cpp:84.)\n",
      "  device: torch.device = torch.device(torch._C._get_default_device()),  # torch.device('cpu'),\n"
     ]
    }
   ],
   "source": [
    "import torch\n",
    "import torch.nn.functional as F"
   ]
  },
  {
   "cell_type": "code",
   "execution_count": 2,
   "id": "dbd71faf-3534-456c-ae0f-144986b728b9",
   "metadata": {},
   "outputs": [
    {
     "data": {
      "text/plain": [
       "['emma',\n",
       " 'olivia',\n",
       " 'ava',\n",
       " 'isabella',\n",
       " 'sophia',\n",
       " 'charlotte',\n",
       " 'mia',\n",
       " 'amelia',\n",
       " 'harper',\n",
       " 'evelyn']"
      ]
     },
     "execution_count": 2,
     "metadata": {},
     "output_type": "execute_result"
    }
   ],
   "source": [
    "words = open(\"./names.txt\").read().splitlines()\n",
    "words[:10]"
   ]
  },
  {
   "cell_type": "code",
   "execution_count": 3,
   "id": "f2511fed-b55d-4f8a-8f2d-cb2118c10669",
   "metadata": {},
   "outputs": [
    {
     "data": {
      "text/plain": [
       "32033"
      ]
     },
     "execution_count": 3,
     "metadata": {},
     "output_type": "execute_result"
    }
   ],
   "source": [
    "len(words)"
   ]
  },
  {
   "cell_type": "code",
   "execution_count": 4,
   "id": "62f4a5bb-3a5e-413e-8481-35935ccf11ab",
   "metadata": {},
   "outputs": [
    {
     "data": {
      "text/plain": [
       "['.emma',\n",
       " '.olivia',\n",
       " '.ava',\n",
       " '.isabella',\n",
       " '.sophia',\n",
       " '.charlotte',\n",
       " '.mia',\n",
       " '.amelia',\n",
       " '.harper',\n",
       " '.evelyn']"
      ]
     },
     "execution_count": 4,
     "metadata": {},
     "output_type": "execute_result"
    }
   ],
   "source": [
    "for i, w in enumerate(words):\n",
    "    words[i] = '.' + w\n",
    "words[:10]"
   ]
  },
  {
   "cell_type": "code",
   "execution_count": 6,
   "id": "3c5b6c5a-6837-4970-8426-cc3cd8a0adde",
   "metadata": {},
   "outputs": [
    {
     "data": {
      "text/plain": [
       "['.', 'e', 'm', 'm', 'a', '.', 'o', 'l', 'i', 'v']"
      ]
     },
     "execution_count": 6,
     "metadata": {},
     "output_type": "execute_result"
    }
   ],
   "source": [
    "chs = []\n",
    "for w in words:\n",
    "    chs += list(w)\n",
    "chs[:10]"
   ]
  },
  {
   "cell_type": "code",
   "execution_count": 7,
   "id": "f732635d-d613-4077-bb4f-18eeb98a17c0",
   "metadata": {},
   "outputs": [],
   "source": [
    "lookup_values = sorted(set(chs))"
   ]
  },
  {
   "cell_type": "code",
   "execution_count": 8,
   "id": "a9bd604c-4079-42ae-9781-6999b39cb2a5",
   "metadata": {},
   "outputs": [
    {
     "data": {
      "text/plain": [
       "{'.': 0,\n",
       " 'a': 1,\n",
       " 'b': 2,\n",
       " 'c': 3,\n",
       " 'd': 4,\n",
       " 'e': 5,\n",
       " 'f': 6,\n",
       " 'g': 7,\n",
       " 'h': 8,\n",
       " 'i': 9,\n",
       " 'j': 10,\n",
       " 'k': 11,\n",
       " 'l': 12,\n",
       " 'm': 13,\n",
       " 'n': 14,\n",
       " 'o': 15,\n",
       " 'p': 16,\n",
       " 'q': 17,\n",
       " 'r': 18,\n",
       " 's': 19,\n",
       " 't': 20,\n",
       " 'u': 21,\n",
       " 'v': 22,\n",
       " 'w': 23,\n",
       " 'x': 24,\n",
       " 'y': 25,\n",
       " 'z': 26}"
      ]
     },
     "execution_count": 8,
     "metadata": {},
     "output_type": "execute_result"
    }
   ],
   "source": [
    "stoi = {lookup_value : i for i, lookup_value in enumerate(lookup_values)}\n",
    "itos = {i : lookup_value for i, lookup_value in enumerate(lookup_values)}\n",
    "stoi"
   ]
  },
  {
   "cell_type": "code",
   "execution_count": 33,
   "id": "a3f6f668-daf3-490a-9ea6-57d8eee1ef7f",
   "metadata": {},
   "outputs": [
    {
     "data": {
      "text/plain": [
       "{0: '.',\n",
       " 1: 'a',\n",
       " 2: 'b',\n",
       " 3: 'c',\n",
       " 4: 'd',\n",
       " 5: 'e',\n",
       " 6: 'f',\n",
       " 7: 'g',\n",
       " 8: 'h',\n",
       " 9: 'i',\n",
       " 10: 'j',\n",
       " 11: 'k',\n",
       " 12: 'l',\n",
       " 13: 'm',\n",
       " 14: 'n',\n",
       " 15: 'o',\n",
       " 16: 'p',\n",
       " 17: 'q',\n",
       " 18: 'r',\n",
       " 19: 's',\n",
       " 20: 't',\n",
       " 21: 'u',\n",
       " 22: 'v',\n",
       " 23: 'w',\n",
       " 24: 'x',\n",
       " 25: 'y',\n",
       " 26: 'z'}"
      ]
     },
     "execution_count": 33,
     "metadata": {},
     "output_type": "execute_result"
    }
   ],
   "source": [
    "itos"
   ]
  },
  {
   "cell_type": "code",
   "execution_count": 9,
   "id": "512ed209-d105-4b41-b44d-f69644f1e4ba",
   "metadata": {},
   "outputs": [
    {
     "data": {
      "text/plain": [
       "[0, 5, 13, 13, 1, 0, 15, 12, 9, 22]"
      ]
     },
     "execution_count": 9,
     "metadata": {},
     "output_type": "execute_result"
    }
   ],
   "source": [
    "for i, ch in enumerate(chs):\n",
    "    chs[i] = stoi[ch]\n",
    "chs[:10]"
   ]
  },
  {
   "cell_type": "code",
   "execution_count": 10,
   "id": "2af8f0b0-f546-499c-9080-f5f247c0e5f5",
   "metadata": {},
   "outputs": [
    {
     "data": {
      "text/plain": [
       "tensor([ 0,  5, 13, 13,  1,  0, 15, 12,  9, 22])"
      ]
     },
     "execution_count": 10,
     "metadata": {},
     "output_type": "execute_result"
    }
   ],
   "source": [
    "x = torch.tensor(chs[:len(chs)-1], dtype = torch.int64)\n",
    "x[:10]"
   ]
  },
  {
   "cell_type": "code",
   "execution_count": 13,
   "id": "7a55ebfc-5b5c-4aba-81b5-52b49e0f8d58",
   "metadata": {},
   "outputs": [
    {
     "data": {
      "text/plain": [
       "torch.Size([228145])"
      ]
     },
     "execution_count": 13,
     "metadata": {},
     "output_type": "execute_result"
    }
   ],
   "source": [
    "x.shape"
   ]
  },
  {
   "cell_type": "code",
   "execution_count": 11,
   "id": "54954a29-9dc0-45a7-89f7-a276b55ecb0e",
   "metadata": {},
   "outputs": [
    {
     "data": {
      "text/plain": [
       "tensor([ 5, 13, 13,  1,  0, 15, 12,  9, 22,  9])"
      ]
     },
     "execution_count": 11,
     "metadata": {},
     "output_type": "execute_result"
    }
   ],
   "source": [
    "y = torch.tensor(chs[1:], dtype = torch.int64)\n",
    "y[:10]"
   ]
  },
  {
   "cell_type": "code",
   "execution_count": 12,
   "id": "507a9be3-21fd-4eff-9665-e9b6bc729b62",
   "metadata": {},
   "outputs": [
    {
     "data": {
      "text/plain": [
       "torch.Size([228145])"
      ]
     },
     "execution_count": 12,
     "metadata": {},
     "output_type": "execute_result"
    }
   ],
   "source": [
    "y.shape"
   ]
  },
  {
   "cell_type": "code",
   "execution_count": 14,
   "id": "d6312bf9-d7ee-44ac-97c8-c5895a60985b",
   "metadata": {},
   "outputs": [
    {
     "data": {
      "text/plain": [
       "tensor([[1., 0., 0.,  ..., 0., 0., 0.],\n",
       "        [0., 0., 0.,  ..., 0., 0., 0.],\n",
       "        [0., 0., 0.,  ..., 0., 0., 0.],\n",
       "        ...,\n",
       "        [0., 0., 0.,  ..., 0., 0., 1.],\n",
       "        [0., 0., 0.,  ..., 0., 1., 0.],\n",
       "        [0., 0., 0.,  ..., 0., 0., 1.]])"
      ]
     },
     "execution_count": 14,
     "metadata": {},
     "output_type": "execute_result"
    }
   ],
   "source": [
    "xenc = F.one_hot(x, num_classes = 27).float()\n",
    "xenc"
   ]
  },
  {
   "cell_type": "code",
   "execution_count": 15,
   "id": "a96546ca-3e90-46ab-a824-f0378c90d1b6",
   "metadata": {},
   "outputs": [
    {
     "data": {
      "text/plain": [
       "torch.float32"
      ]
     },
     "execution_count": 15,
     "metadata": {},
     "output_type": "execute_result"
    }
   ],
   "source": [
    "xenc.dtype"
   ]
  },
  {
   "cell_type": "code",
   "execution_count": 16,
   "id": "9ee97254-3242-4641-a92e-db6cccf00aeb",
   "metadata": {},
   "outputs": [
    {
     "data": {
      "text/plain": [
       "torch.Size([228145, 27])"
      ]
     },
     "execution_count": 16,
     "metadata": {},
     "output_type": "execute_result"
    }
   ],
   "source": [
    "xenc.shape"
   ]
  },
  {
   "cell_type": "code",
   "execution_count": 17,
   "id": "c41467de-e7eb-4f3f-860f-270654815dfe",
   "metadata": {},
   "outputs": [
    {
     "data": {
      "text/plain": [
       "tensor([[ 1.5674e+00, -2.3729e-01, -2.7385e-02, -1.1008e+00,  2.8588e-01,\n",
       "         -2.9643e-02, -1.5471e+00,  6.0489e-01,  7.9136e-02,  9.0462e-01,\n",
       "         -4.7125e-01,  7.8682e-01, -3.2843e-01, -4.3297e-01,  1.3729e+00,\n",
       "          2.9334e+00,  1.5618e+00, -1.6261e+00,  6.7716e-01, -8.4039e-01,\n",
       "          9.8488e-01, -1.4837e-01, -1.4795e+00,  4.4830e-01, -7.0730e-02,\n",
       "          2.4968e+00,  2.4448e+00],\n",
       "        [-6.7006e-01, -1.2199e+00,  3.0314e-01, -1.0725e+00,  7.2762e-01,\n",
       "          5.1114e-02,  1.3095e+00, -8.0220e-01, -8.5042e-01, -1.8068e+00,\n",
       "          1.2523e+00, -1.2256e+00,  1.2165e+00, -9.6478e-01, -2.3211e-01,\n",
       "         -3.4762e-01,  3.3244e-01, -1.3263e+00,  1.1224e+00,  5.9641e-01,\n",
       "          4.5846e-01,  5.4011e-02, -1.7400e+00,  1.1560e-01,  8.0319e-01,\n",
       "          5.4108e-01, -1.1646e+00],\n",
       "        [ 1.4756e-01, -1.0006e+00,  3.8012e-01,  4.7328e-01, -9.1027e-01,\n",
       "         -7.8305e-01,  1.3506e-01, -2.1161e-01, -1.0406e+00, -1.5367e+00,\n",
       "          9.3743e-01, -8.8303e-01,  1.7457e+00,  2.1346e+00, -8.5614e-01,\n",
       "          5.4082e-01,  6.1690e-01,  1.5160e+00, -1.0447e+00, -6.6414e-01,\n",
       "         -7.2390e-01,  1.7507e+00,  1.7530e-01,  9.9280e-01, -6.2787e-01,\n",
       "          7.7023e-02, -1.1641e+00],\n",
       "        [ 1.2473e+00, -2.7061e-01, -1.3635e+00,  1.3066e+00,  3.2307e-01,\n",
       "          1.0358e+00, -8.6249e-01, -1.2575e+00,  9.4180e-01, -1.3257e+00,\n",
       "          1.4670e-01,  1.6913e-01, -1.5397e+00, -7.2759e-01,  1.1491e+00,\n",
       "         -8.7462e-01, -2.9771e-01, -1.3707e+00,  1.1500e-01, -1.0188e+00,\n",
       "         -8.3777e-01, -2.1057e+00, -2.6044e-01, -1.7149e+00, -3.3787e-01,\n",
       "         -1.8263e+00, -8.3897e-01],\n",
       "        [-1.5723e+00,  4.5795e-01, -5.6533e-01,  5.4281e-01,  1.7549e-01,\n",
       "         -2.2901e+00, -7.0928e-01, -2.9283e-01, -2.1803e+00,  7.9311e-02,\n",
       "          9.0187e-01,  1.2028e+00, -5.6144e-01, -1.3753e-01, -1.3799e-01,\n",
       "         -2.0977e+00, -7.9238e-01,  6.0689e-01, -1.4777e+00, -5.1029e-01,\n",
       "          5.6421e-01,  9.6838e-01, -3.1114e-01, -3.0603e-01, -1.7495e+00,\n",
       "         -1.6335e+00,  3.8761e-01],\n",
       "        [ 4.7236e-01,  1.4830e+00,  3.1748e-01,  1.0588e+00,  2.3982e+00,\n",
       "          4.6827e-01, -6.5650e-01,  6.1662e-01, -6.2197e-01,  5.1007e-01,\n",
       "          1.3563e+00,  2.3445e-01, -4.5585e-01, -1.3132e-03, -5.1161e-01,\n",
       "          5.5570e-01,  4.7458e-01, -1.3867e+00,  1.6229e+00,  1.7197e-01,\n",
       "          9.8846e-01,  5.0657e-01,  1.0198e+00, -1.9062e+00, -4.2753e-01,\n",
       "         -2.1259e+00,  9.6041e-01],\n",
       "        [ 1.2482e+00,  2.5341e-01,  2.8188e+00, -3.3983e-01,  7.0311e-01,\n",
       "          4.0716e-01, -1.9018e-01, -6.9652e-01,  1.7039e+00,  7.4204e-01,\n",
       "          9.7370e-01,  3.0028e-01, -2.8971e-01, -3.1566e-01, -8.7898e-01,\n",
       "          1.0661e-01,  1.8598e+00,  5.5752e-02,  1.2815e+00, -6.3182e-01,\n",
       "         -1.2464e+00,  6.8305e-01, -3.9455e-01,  1.4388e-02,  5.7216e-01,\n",
       "          8.6726e-01,  6.3149e-01],\n",
       "        [-1.2230e+00, -2.1286e-01,  5.0950e-01,  3.2713e-01,  1.9661e+00,\n",
       "         -2.4091e-01, -7.9515e-01,  2.7198e-01, -1.1100e+00, -4.5285e-01,\n",
       "         -4.9578e-01,  1.2648e+00,  1.4625e+00,  1.1199e+00,  9.9539e-01,\n",
       "         -1.2353e+00,  7.3818e-01,  8.1415e-01, -7.3806e-01,  5.6714e-01,\n",
       "         -1.4601e+00, -2.4780e-01,  8.8282e-01, -8.1004e-02, -9.5299e-01,\n",
       "         -4.8838e-01, -7.3712e-01],\n",
       "        [ 7.0609e-01, -1.9295e-01,  1.2348e+00,  3.3308e-01,  1.3283e+00,\n",
       "         -1.0921e+00, -8.3952e-01,  1.9098e-01, -7.1750e-01, -3.8668e-01,\n",
       "         -1.2542e+00,  1.2068e+00, -1.7102e+00, -4.7701e-01, -1.0527e+00,\n",
       "         -1.4367e-01, -2.7737e-01,  1.1634e+00, -6.6910e-01,  6.4918e-01,\n",
       "          5.8243e-01,  1.9264e+00, -3.7846e-01,  7.9577e-03,  5.1068e-01,\n",
       "          7.5927e-01, -1.6086e+00],\n",
       "        [-1.6065e-01,  1.3784e+00, -2.7804e-01,  2.0710e-01,  1.0033e+00,\n",
       "         -5.9772e-01, -3.9771e-01, -1.2801e+00,  9.2445e-02,  1.0526e-01,\n",
       "         -3.9072e-01, -4.0091e-01,  5.6533e-01, -1.5065e+00,  1.2898e+00,\n",
       "         -1.5100e+00,  1.0930e+00,  1.0797e+00, -8.6681e-02,  1.3423e+00,\n",
       "          1.5184e-01,  2.4687e-01,  3.1895e-01, -9.8614e-01, -2.1382e-01,\n",
       "         -6.4308e-02, -8.5528e-01],\n",
       "        [ 1.6113e-01,  4.4925e-01,  8.1827e-01, -8.1628e-01, -3.9243e-01,\n",
       "         -7.4521e-01, -9.4649e-01, -1.5941e-01, -1.5047e+00,  8.4682e-01,\n",
       "         -4.9158e-02,  9.3866e-02, -6.4533e-01,  1.2108e+00, -7.8198e-01,\n",
       "          3.8449e-01, -8.5259e-01,  1.0464e+00, -1.8493e+00,  9.1092e-01,\n",
       "         -9.9360e-01,  6.0195e-01, -1.0890e-01,  5.2587e-01, -9.4046e-01,\n",
       "         -1.2773e-01, -2.5679e-01],\n",
       "        [-1.5437e+00,  3.7950e-01, -1.7705e+00, -1.2085e+00,  9.4773e-01,\n",
       "         -9.1355e-01,  7.1023e-01,  7.9512e-01,  5.7662e-01, -7.3778e-01,\n",
       "         -1.5264e+00,  7.1173e-01,  1.4056e+00, -4.0636e-01, -7.4648e-01,\n",
       "          4.9790e-01,  1.1298e-01, -4.1854e-01,  1.7905e-01,  2.3483e-01,\n",
       "          7.3510e-01, -6.1577e-01,  7.0467e-01,  1.1630e-01,  2.8365e-01,\n",
       "         -2.5043e+00, -5.1931e-01],\n",
       "        [-5.9134e-01, -1.1059e-01,  8.3416e-01, -1.0505e+00,  3.6345e-01,\n",
       "          1.8195e-01, -4.8045e-01,  5.3309e-01,  6.7869e-01, -3.5974e-01,\n",
       "         -1.3270e+00, -8.2526e-01,  6.3614e-01,  1.9110e-01,  7.5476e-01,\n",
       "          4.0538e-01,  2.2565e+00,  1.3655e+00, -5.6192e-01, -3.0423e-01,\n",
       "          2.9894e-01,  1.8784e+00,  5.5958e-01,  1.3388e+00,  4.1606e-01,\n",
       "          6.8491e-01, -1.4790e-01],\n",
       "        [ 1.9359e-01,  1.0532e+00,  6.3393e-01,  2.5786e-01,  9.6408e-01,\n",
       "         -2.4855e-01,  2.4756e-02, -3.0404e-02,  1.5622e+00, -4.4852e-01,\n",
       "         -1.2345e+00,  1.1220e+00, -6.7381e-01,  3.7882e-02, -5.5881e-01,\n",
       "         -8.2709e-01,  8.2253e-01, -7.5100e-01,  9.2778e-01, -1.4849e+00,\n",
       "         -2.1293e-01, -1.1860e+00, -6.6092e-01, -2.3348e-01,  1.5447e+00,\n",
       "          6.0061e-01, -7.0909e-01],\n",
       "        [ 1.9217e+00, -1.8182e-01,  1.5220e+00,  5.4644e-01,  4.0858e-01,\n",
       "         -1.9692e+00, -8.9185e-01,  3.2961e-01, -2.5128e-01,  5.5030e-01,\n",
       "         -7.5171e-01, -6.5783e-03, -6.3108e-01,  1.3431e+00,  3.8010e-02,\n",
       "         -7.1654e-01,  1.7206e+00, -5.2149e-01, -2.3248e-01,  1.0774e+00,\n",
       "         -7.6019e-01,  9.0109e-03, -7.9219e-01,  1.2307e+00, -5.2760e-01,\n",
       "         -1.3207e+00, -7.0654e-01],\n",
       "        [-7.7861e-01,  1.2910e+00, -1.5094e+00,  7.4593e-01,  4.8990e-01,\n",
       "         -1.0034e+00,  9.6407e-01,  2.0990e+00, -3.9870e-01, -7.6635e-01,\n",
       "         -2.1007e+00,  1.2331e+00,  7.7481e-01,  2.4311e-01, -2.1322e-01,\n",
       "         -6.9877e-01,  2.0889e-01, -6.2477e-01, -1.0825e-01, -2.1964e+00,\n",
       "          2.7083e-01,  6.1047e-01, -5.8162e-01, -1.7025e+00, -8.0672e-01,\n",
       "         -2.4174e-01,  1.5490e+00],\n",
       "        [-3.4593e-01,  5.4714e-01,  3.1755e-02,  8.1375e-01,  2.6200e-01,\n",
       "         -6.7101e-01,  2.0656e-02,  7.1300e-01, -4.3997e-02, -5.1944e-01,\n",
       "          1.1241e-01, -3.9770e-01, -2.7829e-01, -1.5364e-01, -2.5424e+00,\n",
       "          2.5033e-01,  1.1056e-01, -2.0366e+00, -9.2735e-01, -6.9350e-01,\n",
       "         -5.2788e-01, -8.7438e-01, -1.0102e+00, -1.0522e+00,  1.2348e+00,\n",
       "          2.5907e-02, -9.6676e-01],\n",
       "        [ 1.0904e+00,  5.3966e-01,  6.6741e-01, -2.2316e+00, -1.1603e+00,\n",
       "         -4.2560e-01,  5.9547e-01, -1.0887e+00,  2.4324e-01, -2.1021e+00,\n",
       "         -2.9289e-01, -7.0682e-01,  9.5190e-01, -1.1583e+00, -1.2844e+00,\n",
       "          1.0193e+00,  1.6851e+00,  8.3422e-01,  1.7113e+00,  4.4456e-01,\n",
       "         -7.1861e-01, -7.0343e-01, -7.1332e-01,  9.9760e-01, -6.1980e-01,\n",
       "          1.9522e+00,  1.4311e-01],\n",
       "        [ 1.8765e-01,  7.5974e-01, -2.6387e-01, -7.3048e-01,  6.1955e-01,\n",
       "          3.5577e-02, -7.6459e-02, -1.2306e+00,  1.3419e+00,  1.1878e+00,\n",
       "         -1.0672e+00, -2.1507e+00,  6.7082e-01,  1.1614e+00, -2.4155e-01,\n",
       "          9.5907e-01,  3.8262e-02,  3.9877e-02, -7.7180e-01,  2.9251e-01,\n",
       "         -6.0606e-01, -1.5136e+00, -2.7143e+00, -4.1164e-01, -1.2273e+00,\n",
       "         -4.1746e-01,  1.5021e+00],\n",
       "        [-6.2849e-01, -4.4247e-01,  5.6885e-01,  1.2803e+00, -5.5397e-01,\n",
       "          1.1179e+00, -6.0053e-01, -5.8619e-01, -2.8277e-01,  5.3390e-01,\n",
       "         -9.9388e-01, -1.6996e+00,  1.8362e+00,  4.2016e-01, -6.8729e-01,\n",
       "         -3.5060e-01,  7.5598e-01, -9.3632e-01, -8.4109e-02, -1.6361e+00,\n",
       "          1.0224e+00,  1.0733e+00, -5.7453e-01,  4.9668e-02,  7.2379e-01,\n",
       "          5.9746e-01,  2.6966e+00],\n",
       "        [ 2.7930e+00, -2.2745e+00, -2.3912e-01,  8.7498e-02,  1.4967e+00,\n",
       "         -5.7016e-01, -5.7248e-01,  1.9909e+00, -7.4416e-01,  7.2960e-01,\n",
       "          6.4083e-01,  1.6075e+00, -8.8810e-01,  2.7359e-01, -1.3257e-01,\n",
       "          1.2710e+00,  1.7234e+00,  1.1180e-01,  2.6952e-01,  1.1835e+00,\n",
       "          1.2575e+00,  1.3969e-01,  4.7259e-01,  7.9025e-01,  1.0811e+00,\n",
       "         -9.1965e-01, -4.0503e-01],\n",
       "        [ 4.5696e-01, -5.4184e-01, -2.3025e+00,  2.0127e+00, -4.6452e-01,\n",
       "         -5.8270e-01,  2.0863e+00, -4.7729e-02, -4.4920e-01,  9.5566e-01,\n",
       "         -1.4708e-01, -1.2532e+00, -1.1850e+00,  3.6583e-01, -1.4049e-01,\n",
       "          3.5252e-01, -5.2400e-01, -6.2844e-01, -9.3792e-01,  1.6772e+00,\n",
       "          3.8554e-03, -7.3685e-01, -9.3514e-01,  1.0465e-01, -4.6464e-01,\n",
       "          1.6676e+00,  1.3931e+00],\n",
       "        [ 6.5398e-01, -2.2449e-01,  1.2831e+00, -9.1787e-01, -3.3916e-01,\n",
       "         -1.8058e+00,  6.0518e-01, -5.6252e-01, -7.8933e-01,  1.2767e+00,\n",
       "         -1.0143e+00,  4.1611e-01, -7.5348e-01,  1.7128e+00, -8.7554e-01,\n",
       "          3.9714e-01,  8.4326e-01,  3.7988e-01, -1.1670e+00,  5.5228e-01,\n",
       "         -1.0279e+00, -3.9554e-01, -7.1410e-01, -8.7456e-02, -3.3361e-01,\n",
       "         -1.8798e-01, -1.2647e+00],\n",
       "        [ 2.0021e+00, -2.3470e-01, -1.3765e+00,  9.3426e-01,  1.0880e+00,\n",
       "          1.9179e-01,  3.0114e-01,  8.9896e-01, -8.4454e-01,  2.3267e-01,\n",
       "         -3.9205e-01, -2.5081e-01,  8.7124e-02,  1.3769e+00, -8.3358e-01,\n",
       "         -8.9400e-01,  1.1744e+00, -6.0779e-01, -1.1493e-01, -7.8077e-01,\n",
       "          1.9660e+00,  6.1175e-01,  3.6039e-01, -1.0274e+00,  1.1495e+00,\n",
       "          4.5111e-01,  6.4420e-01],\n",
       "        [ 2.1635e-01, -7.8731e-01, -3.3005e-01,  3.2877e-01, -1.6332e+00,\n",
       "          1.0807e+00,  3.3638e-01,  1.1536e-01,  3.2834e-01,  5.3447e-02,\n",
       "          1.4224e+00, -8.3957e-01, -2.4956e-01, -8.9778e-01, -8.6583e-01,\n",
       "         -1.0786e+00, -1.8384e-01,  7.1622e-01,  1.8175e-01,  1.1053e+00,\n",
       "          1.7003e+00, -1.6965e-01,  1.6293e-01,  1.3413e+00, -2.6301e-01,\n",
       "         -7.5521e-01,  8.1911e-01],\n",
       "        [ 7.4140e-01, -5.8787e-01, -4.6505e-01,  5.3112e-02,  2.2190e+00,\n",
       "         -3.5158e-01,  3.6381e-01,  2.5769e+00,  1.4544e+00, -6.1003e-01,\n",
       "         -5.9961e-01, -5.8392e-01, -1.8104e-02, -9.5177e-01, -9.6400e-01,\n",
       "         -2.8183e-01,  1.0597e+00, -7.2370e-01,  1.4755e-01, -3.2667e-01,\n",
       "          2.4958e+00,  1.1088e+00, -8.5476e-01,  1.8443e+00, -1.3881e-01,\n",
       "          1.3096e+00, -2.5802e-01],\n",
       "        [ 1.0669e+00,  2.1363e-01, -7.6603e-01, -1.6977e+00, -1.5023e-01,\n",
       "         -5.2150e-01, -6.3730e-01,  2.6214e-01,  7.6539e-03,  1.3067e+00,\n",
       "         -6.3482e-01, -1.1042e-04, -6.6158e-01,  1.4723e-01, -6.6036e-02,\n",
       "          5.2851e-01,  5.7950e-01,  2.1438e-01,  9.2200e-01,  5.2919e-01,\n",
       "          7.7070e-01,  4.2899e-01,  3.4330e-01,  2.0698e+00,  1.3405e+00,\n",
       "         -2.1746e-01,  8.6273e-01]], requires_grad=True)"
      ]
     },
     "execution_count": 17,
     "metadata": {},
     "output_type": "execute_result"
    }
   ],
   "source": [
    "g = torch.Generator().manual_seed(2147483647)\n",
    "w = torch.randn((27, 27), dtype = torch.float32, requires_grad = True, generator = g)\n",
    "w"
   ]
  },
  {
   "cell_type": "code",
   "execution_count": 32,
   "id": "34159987-f52f-49df-a96f-48300ec8671b",
   "metadata": {},
   "outputs": [
    {
     "name": "stdout",
     "output_type": "stream",
     "text": [
      "tensor(2.4817, grad_fn=<AddBackward0>)\n",
      "tensor(2.4815, grad_fn=<AddBackward0>)\n",
      "tensor(2.4814, grad_fn=<AddBackward0>)\n",
      "tensor(2.4892, grad_fn=<AddBackward0>)\n",
      "tensor(2.5021, grad_fn=<AddBackward0>)\n",
      "tensor(2.4982, grad_fn=<AddBackward0>)\n",
      "tensor(2.5017, grad_fn=<AddBackward0>)\n",
      "tensor(2.4981, grad_fn=<AddBackward0>)\n",
      "tensor(2.5018, grad_fn=<AddBackward0>)\n",
      "tensor(2.5011, grad_fn=<AddBackward0>)\n"
     ]
    }
   ],
   "source": [
    "#Forward pass\n",
    "for i in range(100):\n",
    "    logits = xenc @ w\n",
    "    softmax = F.softmax(logits, dim = -1)\n",
    "    target_probs = softmax[torch.arange(228145), y]\n",
    "    loss = -(target_probs).log().mean() + 0.01 * (w**2).mean()\n",
    "    if i%10 == 0:\n",
    "        print(loss)\n",
    "    w.grad = None\n",
    "    loss.backward()\n",
    "    w.data += (-100 * w.grad)"
   ]
  },
  {
   "cell_type": "code",
   "execution_count": 139,
   "id": "f0f6f98f-a0bc-4bbf-9113-5975928e206e",
   "metadata": {},
   "outputs": [
    {
     "name": "stdout",
     "output_type": "stream",
     "text": [
      "junide.\n",
      "ja.\n",
      "asah.\n",
      "p.\n",
      "cfay.\n"
     ]
    }
   ],
   "source": [
    "#inference\n",
    "g = torch.Generator().manual_seed(2147483647)\n",
    "def forward(i, name):\n",
    "    i = torch.tensor([stoi[i]], dtype = torch.int64)\n",
    "    ienc = F.one_hot(i, num_classes = 27).float()\n",
    "    logits = ienc @ w\n",
    "    softmax = F.softmax(logits, dim = -1)\n",
    "    predicted = torch.multinomial(softmax, num_samples = 1, replacement = True, generator = g)\n",
    "    predicted = itos[predicted.item()]\n",
    "    name += predicted\n",
    "    if predicted == '.':\n",
    "        print(name)\n",
    "        return\n",
    "    forward(predicted, name)\n",
    "\n",
    "for i in range(5):\n",
    "    i = '.'\n",
    "    forward(i, \"\")"
   ]
  }
 ],
 "metadata": {
  "kernelspec": {
   "display_name": "Python 3 (ipykernel)",
   "language": "python",
   "name": "python3"
  },
  "language_info": {
   "codemirror_mode": {
    "name": "ipython",
    "version": 3
   },
   "file_extension": ".py",
   "mimetype": "text/x-python",
   "name": "python",
   "nbconvert_exporter": "python",
   "pygments_lexer": "ipython3",
   "version": "3.12.8"
  }
 },
 "nbformat": 4,
 "nbformat_minor": 5
}
