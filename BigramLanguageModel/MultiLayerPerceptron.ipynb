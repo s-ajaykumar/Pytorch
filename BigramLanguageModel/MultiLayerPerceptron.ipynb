{
 "cells": [
  {
   "cell_type": "code",
   "execution_count": null,
   "id": "1095a31c-d350-4faa-8639-0bc1f8bc99ef",
   "metadata": {},
   "outputs": [],
   "source": [
    "pip install torch matplotlib"
   ]
  },
  {
   "cell_type": "code",
   "execution_count": 1,
   "id": "8c1df543-0c57-4408-ad1b-6af98466d1d0",
   "metadata": {},
   "outputs": [],
   "source": [
    "import torch\n",
    "import torch.nn.functional as F\n",
    "import random\n",
    "import matplotlib.pyplot as plt"
   ]
  },
  {
   "cell_type": "markdown",
   "id": "542ce0ed-a7f5-42a6-864f-750a22ffc580",
   "metadata": {
    "jp-MarkdownHeadingCollapsed": true
   },
   "source": [
    "# EDA"
   ]
  },
  {
   "cell_type": "code",
   "execution_count": 2,
   "id": "dbd71faf-3534-456c-ae0f-144986b728b9",
   "metadata": {},
   "outputs": [
    {
     "name": "stdout",
     "output_type": "stream",
     "text": [
      "['emma', 'olivia', 'ava', 'isabella', 'sophia', 'charlotte', 'mia', 'amelia', 'harper', 'evelyn']\n",
      "['khole', 'harbour', 'devon', 'baine', 'erisha', 'ivani', 'hollyn', 'kristell', 'zyva', 'ella'] 25626 28829\n"
     ]
    }
   ],
   "source": [
    "words = open(\"D:/DeepLearning/Pytorch/names.txt\").read().splitlines()\n",
    "print(words[:10])\n",
    "random.seed(2147483647)\n",
    "random.shuffle(words)\n",
    "n1 = int(0.8 * len(words))\n",
    "n2 = int(0.9 * len(words))\n",
    "print(words[:10], n1, n2)"
   ]
  },
  {
   "cell_type": "code",
   "execution_count": 3,
   "id": "f2511fed-b55d-4f8a-8f2d-cb2118c10669",
   "metadata": {},
   "outputs": [
    {
     "data": {
      "text/plain": [
       "32033"
      ]
     },
     "execution_count": 3,
     "metadata": {},
     "output_type": "execute_result"
    }
   ],
   "source": [
    "len(words)"
   ]
  },
  {
   "cell_type": "code",
   "execution_count": 4,
   "id": "e61d9466-fd31-4416-b09e-2eba39aff628",
   "metadata": {},
   "outputs": [
    {
     "data": {
      "text/plain": [
       "['a',\n",
       " 'b',\n",
       " 'c',\n",
       " 'd',\n",
       " 'e',\n",
       " 'f',\n",
       " 'g',\n",
       " 'h',\n",
       " 'i',\n",
       " 'j',\n",
       " 'k',\n",
       " 'l',\n",
       " 'm',\n",
       " 'n',\n",
       " 'o',\n",
       " 'p',\n",
       " 'q',\n",
       " 'r',\n",
       " 's',\n",
       " 't',\n",
       " 'u',\n",
       " 'v',\n",
       " 'w',\n",
       " 'x',\n",
       " 'y',\n",
       " 'z']"
      ]
     },
     "execution_count": 4,
     "metadata": {},
     "output_type": "execute_result"
    }
   ],
   "source": [
    "chars = []\n",
    "for w in words:\n",
    "    chars += list(w)\n",
    "chars = sorted(set(chars))\n",
    "chars"
   ]
  },
  {
   "cell_type": "markdown",
   "id": "6bf314ed-46da-4036-9502-9ca60b9e9c17",
   "metadata": {
    "jp-MarkdownHeadingCollapsed": true
   },
   "source": [
    "# Dataset Preprocessing"
   ]
  },
  {
   "cell_type": "code",
   "execution_count": 5,
   "id": "d2a1df55-8ad0-4f20-a749-3bec0791ec7a",
   "metadata": {},
   "outputs": [],
   "source": [
    "#vocab\n",
    "stoi = {ch : i+1 for i, ch in enumerate(chars)}\n",
    "itos = {i+1 : ch for i, ch in enumerate(chars)}\n",
    "stoi['.'] = 0\n",
    "itos[0] = '.' "
   ]
  },
  {
   "cell_type": "code",
   "execution_count": 6,
   "id": "d4dda33a-ddc5-4f77-b49b-ab5a326ba277",
   "metadata": {},
   "outputs": [
    {
     "data": {
      "text/plain": [
       "{1: 'a',\n",
       " 2: 'b',\n",
       " 3: 'c',\n",
       " 4: 'd',\n",
       " 5: 'e',\n",
       " 6: 'f',\n",
       " 7: 'g',\n",
       " 8: 'h',\n",
       " 9: 'i',\n",
       " 10: 'j',\n",
       " 11: 'k',\n",
       " 12: 'l',\n",
       " 13: 'm',\n",
       " 14: 'n',\n",
       " 15: 'o',\n",
       " 16: 'p',\n",
       " 17: 'q',\n",
       " 18: 'r',\n",
       " 19: 's',\n",
       " 20: 't',\n",
       " 21: 'u',\n",
       " 22: 'v',\n",
       " 23: 'w',\n",
       " 24: 'x',\n",
       " 25: 'y',\n",
       " 26: 'z',\n",
       " 0: '.'}"
      ]
     },
     "execution_count": 6,
     "metadata": {},
     "output_type": "execute_result"
    }
   ],
   "source": [
    "itos"
   ]
  },
  {
   "cell_type": "code",
   "execution_count": 7,
   "id": "62f4a5bb-3a5e-413e-8481-35935ccf11ab",
   "metadata": {},
   "outputs": [],
   "source": [
    "def build_dataset(words, block_size, stoi = stoi, itos = itos):\n",
    "    X = []\n",
    "    y = []\n",
    "    for w in words:\n",
    "        w += '.'\n",
    "        context = [0] * block_size\n",
    "        for ch in w:\n",
    "            ix = stoi[ch]\n",
    "            X.append(context)\n",
    "            y.append(ix)\n",
    "            context = context[1:] + [ix]\n",
    "    return torch.tensor(X), torch.tensor(y)\n",
    "        \n",
    "\n",
    "block_size = 3\n",
    "Xtr, ytr = build_dataset(words[:n1], block_size)\n",
    "Xval, yval = build_dataset(words[n1:n2], block_size)\n",
    "Xtest, ytest = build_dataset(words[n2:], block_size)"
   ]
  },
  {
   "cell_type": "code",
   "execution_count": 8,
   "id": "bc6f794d-4fa0-46e2-b453-31696f9982c9",
   "metadata": {},
   "outputs": [
    {
     "name": "stdout",
     "output_type": "stream",
     "text": [
      "torch.Size([182546, 3]) torch.Size([182546]) torch.Size([22840, 3]) torch.Size([22840]) torch.Size([22760, 3]) torch.Size([22760])\n"
     ]
    }
   ],
   "source": [
    "print(Xtr.shape, ytr.shape, Xval.shape, yval.shape, Xtest.shape, ytest.shape)"
   ]
  },
  {
   "cell_type": "markdown",
   "id": "b3a6fa33-3163-4c46-811b-90d4b94b0085",
   "metadata": {},
   "source": [
    "# Model Building"
   ]
  },
  {
   "cell_type": "code",
   "execution_count": 667,
   "id": "9c08c768-4e4b-4b45-93f9-859593323f20",
   "metadata": {
    "scrolled": true
   },
   "outputs": [
    {
     "name": "stdout",
     "output_type": "stream",
     "text": [
      "tensor([0.0010, 0.0010, 0.0010, 0.0010, 0.0010, 0.0010, 0.0010, 0.0010, 0.0011,\n",
      "        0.0011, 0.0011, 0.0011, 0.0011, 0.0011, 0.0011, 0.0011, 0.0011, 0.0011,\n",
      "        0.0011, 0.0011, 0.0011, 0.0012, 0.0012, 0.0012, 0.0012, 0.0012, 0.0012,\n",
      "        0.0012, 0.0012, 0.0012, 0.0012, 0.0012, 0.0012, 0.0013, 0.0013, 0.0013,\n",
      "        0.0013, 0.0013, 0.0013, 0.0013, 0.0013, 0.0013, 0.0013, 0.0013, 0.0014,\n",
      "        0.0014, 0.0014, 0.0014, 0.0014, 0.0014, 0.0014, 0.0014, 0.0014, 0.0014,\n",
      "        0.0015, 0.0015, 0.0015, 0.0015, 0.0015, 0.0015, 0.0015, 0.0015, 0.0015,\n",
      "        0.0015, 0.0016, 0.0016, 0.0016, 0.0016, 0.0016, 0.0016, 0.0016, 0.0016,\n",
      "        0.0016, 0.0017, 0.0017, 0.0017, 0.0017, 0.0017, 0.0017, 0.0017, 0.0017,\n",
      "        0.0018, 0.0018, 0.0018, 0.0018, 0.0018, 0.0018, 0.0018, 0.0018, 0.0019,\n",
      "        0.0019, 0.0019, 0.0019, 0.0019, 0.0019, 0.0019, 0.0019, 0.0020, 0.0020,\n",
      "        0.0020, 0.0020, 0.0020, 0.0020, 0.0020, 0.0021, 0.0021, 0.0021, 0.0021,\n",
      "        0.0021, 0.0021, 0.0021, 0.0022, 0.0022, 0.0022, 0.0022, 0.0022, 0.0022,\n",
      "        0.0022, 0.0023, 0.0023, 0.0023, 0.0023, 0.0023, 0.0023, 0.0024, 0.0024,\n",
      "        0.0024, 0.0024, 0.0024, 0.0024, 0.0025, 0.0025, 0.0025, 0.0025, 0.0025,\n",
      "        0.0025, 0.0026, 0.0026, 0.0026, 0.0026, 0.0026, 0.0027, 0.0027, 0.0027,\n",
      "        0.0027, 0.0027, 0.0027, 0.0028, 0.0028, 0.0028, 0.0028, 0.0028, 0.0029,\n",
      "        0.0029, 0.0029, 0.0029, 0.0029, 0.0030, 0.0030, 0.0030, 0.0030, 0.0030,\n",
      "        0.0031, 0.0031, 0.0031, 0.0031, 0.0032, 0.0032, 0.0032, 0.0032, 0.0032,\n",
      "        0.0033, 0.0033, 0.0033, 0.0033, 0.0034, 0.0034, 0.0034, 0.0034, 0.0034,\n",
      "        0.0035, 0.0035, 0.0035, 0.0035, 0.0036, 0.0036, 0.0036, 0.0036, 0.0037,\n",
      "        0.0037, 0.0037, 0.0037, 0.0038, 0.0038, 0.0038, 0.0039, 0.0039, 0.0039,\n",
      "        0.0039, 0.0040, 0.0040, 0.0040, 0.0040, 0.0041, 0.0041, 0.0041, 0.0042,\n",
      "        0.0042, 0.0042, 0.0042, 0.0043, 0.0043, 0.0043, 0.0044, 0.0044, 0.0044,\n",
      "        0.0045, 0.0045, 0.0045, 0.0045, 0.0046, 0.0046, 0.0046, 0.0047, 0.0047,\n",
      "        0.0047, 0.0048, 0.0048, 0.0048, 0.0049, 0.0049, 0.0049, 0.0050, 0.0050,\n",
      "        0.0050, 0.0051, 0.0051, 0.0051, 0.0052, 0.0052, 0.0053, 0.0053, 0.0053,\n",
      "        0.0054, 0.0054, 0.0054, 0.0055, 0.0055, 0.0056, 0.0056, 0.0056, 0.0057,\n",
      "        0.0057, 0.0058, 0.0058, 0.0058, 0.0059, 0.0059, 0.0060, 0.0060, 0.0060,\n",
      "        0.0061, 0.0061, 0.0062, 0.0062, 0.0062, 0.0063, 0.0063, 0.0064, 0.0064,\n",
      "        0.0065, 0.0065, 0.0066, 0.0066, 0.0067, 0.0067, 0.0067, 0.0068, 0.0068,\n",
      "        0.0069, 0.0069, 0.0070, 0.0070, 0.0071, 0.0071, 0.0072, 0.0072, 0.0073,\n",
      "        0.0073, 0.0074, 0.0074, 0.0075, 0.0075, 0.0076, 0.0076, 0.0077, 0.0077,\n",
      "        0.0078, 0.0079, 0.0079, 0.0080, 0.0080, 0.0081, 0.0081, 0.0082, 0.0082,\n",
      "        0.0083, 0.0084, 0.0084, 0.0085, 0.0085, 0.0086, 0.0086, 0.0087, 0.0088,\n",
      "        0.0088, 0.0089, 0.0090, 0.0090, 0.0091, 0.0091, 0.0092, 0.0093, 0.0093,\n",
      "        0.0094, 0.0095, 0.0095, 0.0096, 0.0097, 0.0097, 0.0098, 0.0099, 0.0099,\n",
      "        0.0100, 0.0101, 0.0101, 0.0102, 0.0103, 0.0104, 0.0104, 0.0105, 0.0106,\n",
      "        0.0106, 0.0107, 0.0108, 0.0109, 0.0109, 0.0110, 0.0111, 0.0112, 0.0112,\n",
      "        0.0113, 0.0114, 0.0115, 0.0116, 0.0116, 0.0117, 0.0118, 0.0119, 0.0120,\n",
      "        0.0121, 0.0121, 0.0122, 0.0123, 0.0124, 0.0125, 0.0126, 0.0127, 0.0127,\n",
      "        0.0128, 0.0129, 0.0130, 0.0131, 0.0132, 0.0133, 0.0134, 0.0135, 0.0136,\n",
      "        0.0137, 0.0137, 0.0138, 0.0139, 0.0140, 0.0141, 0.0142, 0.0143, 0.0144,\n",
      "        0.0145, 0.0146, 0.0147, 0.0148, 0.0149, 0.0150, 0.0151, 0.0152, 0.0154,\n",
      "        0.0155, 0.0156, 0.0157, 0.0158, 0.0159, 0.0160, 0.0161, 0.0162, 0.0163,\n",
      "        0.0165, 0.0166, 0.0167, 0.0168, 0.0169, 0.0170, 0.0171, 0.0173, 0.0174,\n",
      "        0.0175, 0.0176, 0.0178, 0.0179, 0.0180, 0.0181, 0.0182, 0.0184, 0.0185,\n",
      "        0.0186, 0.0188, 0.0189, 0.0190, 0.0192, 0.0193, 0.0194, 0.0196, 0.0197,\n",
      "        0.0198, 0.0200, 0.0201, 0.0202, 0.0204, 0.0205, 0.0207, 0.0208, 0.0210,\n",
      "        0.0211, 0.0212, 0.0214, 0.0215, 0.0217, 0.0218, 0.0220, 0.0221, 0.0223,\n",
      "        0.0225, 0.0226, 0.0228, 0.0229, 0.0231, 0.0232, 0.0234, 0.0236, 0.0237,\n",
      "        0.0239, 0.0241, 0.0242, 0.0244, 0.0246, 0.0247, 0.0249, 0.0251, 0.0253,\n",
      "        0.0254, 0.0256, 0.0258, 0.0260, 0.0261, 0.0263, 0.0265, 0.0267, 0.0269,\n",
      "        0.0271, 0.0273, 0.0274, 0.0276, 0.0278, 0.0280, 0.0282, 0.0284, 0.0286,\n",
      "        0.0288, 0.0290, 0.0292, 0.0294, 0.0296, 0.0298, 0.0300, 0.0302, 0.0304,\n",
      "        0.0307, 0.0309, 0.0311, 0.0313, 0.0315, 0.0317, 0.0320, 0.0322, 0.0324,\n",
      "        0.0326, 0.0328, 0.0331, 0.0333, 0.0335, 0.0338, 0.0340, 0.0342, 0.0345,\n",
      "        0.0347, 0.0350, 0.0352, 0.0354, 0.0357, 0.0359, 0.0362, 0.0364, 0.0367,\n",
      "        0.0369, 0.0372, 0.0375, 0.0377, 0.0380, 0.0382, 0.0385, 0.0388, 0.0390,\n",
      "        0.0393, 0.0396, 0.0399, 0.0401, 0.0404, 0.0407, 0.0410, 0.0413, 0.0416,\n",
      "        0.0418, 0.0421, 0.0424, 0.0427, 0.0430, 0.0433, 0.0436, 0.0439, 0.0442,\n",
      "        0.0445, 0.0448, 0.0451, 0.0455, 0.0458, 0.0461, 0.0464, 0.0467, 0.0471,\n",
      "        0.0474, 0.0477, 0.0480, 0.0484, 0.0487, 0.0491, 0.0494, 0.0497, 0.0501,\n",
      "        0.0504, 0.0508, 0.0511, 0.0515, 0.0518, 0.0522, 0.0526, 0.0529, 0.0533,\n",
      "        0.0537, 0.0540, 0.0544, 0.0548, 0.0552, 0.0556, 0.0559, 0.0563, 0.0567,\n",
      "        0.0571, 0.0575, 0.0579, 0.0583, 0.0587, 0.0591, 0.0595, 0.0599, 0.0604,\n",
      "        0.0608, 0.0612, 0.0616, 0.0621, 0.0625, 0.0629, 0.0634, 0.0638, 0.0642,\n",
      "        0.0647, 0.0651, 0.0656, 0.0660, 0.0665, 0.0670, 0.0674, 0.0679, 0.0684,\n",
      "        0.0688, 0.0693, 0.0698, 0.0703, 0.0708, 0.0713, 0.0718, 0.0723, 0.0728,\n",
      "        0.0733, 0.0738, 0.0743, 0.0748, 0.0753, 0.0758, 0.0764, 0.0769, 0.0774,\n",
      "        0.0780, 0.0785, 0.0790, 0.0796, 0.0802, 0.0807, 0.0813, 0.0818, 0.0824,\n",
      "        0.0830, 0.0835, 0.0841, 0.0847, 0.0853, 0.0859, 0.0865, 0.0871, 0.0877,\n",
      "        0.0883, 0.0889, 0.0895, 0.0901, 0.0908, 0.0914, 0.0920, 0.0927, 0.0933,\n",
      "        0.0940, 0.0946, 0.0953, 0.0959, 0.0966, 0.0973, 0.0979, 0.0986, 0.0993,\n",
      "        0.1000, 0.1007, 0.1014, 0.1021, 0.1028, 0.1035, 0.1042, 0.1050, 0.1057,\n",
      "        0.1064, 0.1072, 0.1079, 0.1087, 0.1094, 0.1102, 0.1109, 0.1117, 0.1125,\n",
      "        0.1133, 0.1140, 0.1148, 0.1156, 0.1164, 0.1172, 0.1181, 0.1189, 0.1197,\n",
      "        0.1205, 0.1214, 0.1222, 0.1231, 0.1239, 0.1248, 0.1256, 0.1265, 0.1274,\n",
      "        0.1283, 0.1292, 0.1301, 0.1310, 0.1319, 0.1328, 0.1337, 0.1346, 0.1356,\n",
      "        0.1365, 0.1374, 0.1384, 0.1394, 0.1403, 0.1413, 0.1423, 0.1433, 0.1443,\n",
      "        0.1453, 0.1463, 0.1473, 0.1483, 0.1493, 0.1504, 0.1514, 0.1525, 0.1535,\n",
      "        0.1546, 0.1557, 0.1567, 0.1578, 0.1589, 0.1600, 0.1611, 0.1623, 0.1634,\n",
      "        0.1645, 0.1657, 0.1668, 0.1680, 0.1691, 0.1703, 0.1715, 0.1727, 0.1739,\n",
      "        0.1751, 0.1763, 0.1775, 0.1788, 0.1800, 0.1812, 0.1825, 0.1838, 0.1850,\n",
      "        0.1863, 0.1876, 0.1889, 0.1902, 0.1916, 0.1929, 0.1942, 0.1956, 0.1969,\n",
      "        0.1983, 0.1997, 0.2010, 0.2024, 0.2038, 0.2053, 0.2067, 0.2081, 0.2096,\n",
      "        0.2110, 0.2125, 0.2140, 0.2154, 0.2169, 0.2184, 0.2200, 0.2215, 0.2230,\n",
      "        0.2246, 0.2261, 0.2277, 0.2293, 0.2309, 0.2325, 0.2341, 0.2357, 0.2373,\n",
      "        0.2390, 0.2406, 0.2423, 0.2440, 0.2457, 0.2474, 0.2491, 0.2508, 0.2526,\n",
      "        0.2543, 0.2561, 0.2579, 0.2597, 0.2615, 0.2633, 0.2651, 0.2669, 0.2688,\n",
      "        0.2707, 0.2725, 0.2744, 0.2763, 0.2783, 0.2802, 0.2821, 0.2841, 0.2861,\n",
      "        0.2880, 0.2900, 0.2921, 0.2941, 0.2961, 0.2982, 0.3002, 0.3023, 0.3044,\n",
      "        0.3065, 0.3087, 0.3108, 0.3130, 0.3151, 0.3173, 0.3195, 0.3217, 0.3240,\n",
      "        0.3262, 0.3285, 0.3308, 0.3331, 0.3354, 0.3377, 0.3400, 0.3424, 0.3448,\n",
      "        0.3472, 0.3496, 0.3520, 0.3544, 0.3569, 0.3594, 0.3619, 0.3644, 0.3669,\n",
      "        0.3695, 0.3720, 0.3746, 0.3772, 0.3798, 0.3825, 0.3851, 0.3878, 0.3905,\n",
      "        0.3932, 0.3959, 0.3987, 0.4014, 0.4042, 0.4070, 0.4098, 0.4127, 0.4155,\n",
      "        0.4184, 0.4213, 0.4243, 0.4272, 0.4302, 0.4331, 0.4362, 0.4392, 0.4422,\n",
      "        0.4453, 0.4484, 0.4515, 0.4546, 0.4578, 0.4610, 0.4642, 0.4674, 0.4706,\n",
      "        0.4739, 0.4772, 0.4805, 0.4838, 0.4872, 0.4906, 0.4940, 0.4974, 0.5008,\n",
      "        0.5043, 0.5078, 0.5113, 0.5149, 0.5185, 0.5221, 0.5257, 0.5293, 0.5330,\n",
      "        0.5367, 0.5404, 0.5442, 0.5479, 0.5517, 0.5556, 0.5594, 0.5633, 0.5672,\n",
      "        0.5712, 0.5751, 0.5791, 0.5831, 0.5872, 0.5913, 0.5954, 0.5995, 0.6036,\n",
      "        0.6078, 0.6120, 0.6163, 0.6206, 0.6249, 0.6292, 0.6336, 0.6380, 0.6424,\n",
      "        0.6469, 0.6513, 0.6559, 0.6604, 0.6650, 0.6696, 0.6743, 0.6789, 0.6837,\n",
      "        0.6884, 0.6932, 0.6980, 0.7028, 0.7077, 0.7126, 0.7176, 0.7225, 0.7275,\n",
      "        0.7326, 0.7377, 0.7428, 0.7480, 0.7531, 0.7584, 0.7636, 0.7689, 0.7743,\n",
      "        0.7796, 0.7850, 0.7905, 0.7960, 0.8015, 0.8071, 0.8127, 0.8183, 0.8240,\n",
      "        0.8297, 0.8355, 0.8412, 0.8471, 0.8530, 0.8589, 0.8648, 0.8708, 0.8769,\n",
      "        0.8830, 0.8891, 0.8953, 0.9015, 0.9077, 0.9140, 0.9204, 0.9268, 0.9332,\n",
      "        0.9397, 0.9462, 0.9528, 0.9594, 0.9660, 0.9727, 0.9795, 0.9863, 0.9931,\n",
      "        1.0000])\n",
      "torch.Size([1000])\n"
     ]
    }
   ],
   "source": [
    "#lr\n",
    "lre = torch.linspace(-3, 0, (1000))\n",
    "lr = 10**lre\n",
    "print(lr) \n",
    "print(lr.shape)"
   ]
  },
  {
   "cell_type": "code",
   "execution_count": 666,
   "id": "2ed530f4-cc8b-4818-b4e7-2d0e4532eb47",
   "metadata": {},
   "outputs": [
    {
     "data": {
      "text/plain": [
       "tensor([[ 1.5674, -0.2373],\n",
       "        [-0.0274, -1.1008],\n",
       "        [ 0.2859, -0.0296]])"
      ]
     },
     "execution_count": 666,
     "metadata": {},
     "output_type": "execute_result"
    }
   ],
   "source": [
    "#Embedder\n",
    "g = torch.Generator().manual_seed(2147483647)\n",
    "C = torch.randn((27, 2), generator = g)\n",
    "C[:3]"
   ]
  },
  {
   "cell_type": "code",
   "execution_count": 711,
   "id": "c41467de-e7eb-4f3f-860f-270654815dfe",
   "metadata": {},
   "outputs": [
    {
     "name": "stdout",
     "output_type": "stream",
     "text": [
      "Total Parameters:  4540\n"
     ]
    }
   ],
   "source": [
    "#parameters\n",
    "g = torch.Generator().manual_seed(2147483647)\n",
    "w1 = torch.randn((6, 100), requires_grad = True, generator = g)\n",
    "b1 = torch.randn(100, requires_grad = True, generator = g)\n",
    "w2 = torch.randn((100, 30), requires_grad = True, generator = g)\n",
    "b2 = torch.randn(30, requires_grad = True, generator = g)\n",
    "w3 = torch.randn((30, 27), requires_grad = True, generator = g)\n",
    "parameters = [w1, b1, w2, b2, w3]\n",
    "print(\"Total Parameters: \", sum([p.nelement() for p in parameters]))"
   ]
  },
  {
   "cell_type": "code",
   "execution_count": 735,
   "id": "34159987-f52f-49df-a96f-48300ec8671b",
   "metadata": {},
   "outputs": [
    {
     "name": "stdout",
     "output_type": "stream",
     "text": [
      "2.272214412689209\n"
     ]
    }
   ],
   "source": [
    "#Train\n",
    "#layer = 3\n",
    "#lr_ls = []\n",
    "loss_ls = []\n",
    "step_ls = []\n",
    "i = 0\n",
    "while True:\n",
    "#for i in range(10000):\n",
    "    #Create mini batches\n",
    "    ix = torch.randint(0, Xtr.shape[0], (32, ))\n",
    "    \n",
    "    #Forward\n",
    "    emb = C[Xtr[ix]]\n",
    "    emb = emb.view(-1, emb.shape[1] * emb.shape[-1])\n",
    "    h =  torch.tanh(emb @ w1 + b1)\n",
    "    logits = h @ w2 + b2\n",
    "    logits = logits @ w3\n",
    "    loss = F.cross_entropy(logits, ytr[ix])\n",
    "    #if i%10 == 0:\n",
    "        #print(loss)\n",
    "\n",
    "    #Backward\n",
    "    for p in parameters:\n",
    "        p.grad = None\n",
    "    loss.backward()\n",
    "\n",
    "    #Update\n",
    "    for p in parameters:\n",
    "       p.data += -0.01 * p.grad\n",
    "\n",
    "    #Track stats\n",
    "    #lr_ls.append(lre[i].item())\n",
    "    loss_ls.append(loss.item())\n",
    "    step_ls.append(i)\n",
    "    i += 1\n",
    "    if sum(loss_ls)/float(len(loss_ls)) < 2.3:\n",
    "        break\n",
    "print(sum(loss_ls)/float(len(loss_ls)))"
   ]
  },
  {
   "cell_type": "code",
   "execution_count": 730,
   "id": "9a3c7116-73ce-4ee4-b5a5-ff09656b0e07",
   "metadata": {},
   "outputs": [
    {
     "data": {
      "text/plain": [
       "[<matplotlib.lines.Line2D at 0x210d960b750>]"
      ]
     },
     "execution_count": 730,
     "metadata": {},
     "output_type": "execute_result"
    },
    {
     "data": {
      "image/png": "[encoded data removed]",
      "text/plain": [
       "<Figure size 640x480 with 1 Axes>"
      ]
     },
     "metadata": {},
     "output_type": "display_data"
    }
   ],
   "source": [
    "plt.plot(step_ls, loss_ls)"
   ]
  },
  {
   "cell_type": "code",
   "execution_count": 376,
   "id": "422d3c24-c746-4da8-93e1-94fa752336f0",
   "metadata": {},
   "outputs": [
    {
     "data": {
      "text/plain": [
       "[<matplotlib.lines.Line2D at 0x210cbdc9bd0>]"
      ]
     },
     "execution_count": 376,
     "metadata": {},
     "output_type": "execute_result"
    },
    {
     "data": {
      "image/png": "[encoded data removed]",
      "text/plain": [
       "<Figure size 640x480 with 1 Axes>"
      ]
     },
     "metadata": {},
     "output_type": "display_data"
    }
   ],
   "source": [
    "plt.plot(lr_ls, loss_ls)"
   ]
  },
  {
   "cell_type": "code",
   "execution_count": 717,
   "id": "e2187d3e-4108-4589-a839-55906ad5e38d",
   "metadata": {},
   "outputs": [
    {
     "data": {
      "text/plain": [
       "0.001584893192461114"
      ]
     },
     "execution_count": 717,
     "metadata": {},
     "output_type": "execute_result"
    }
   ],
   "source": [
    "10**-2.8"
   ]
  },
  {
   "cell_type": "code",
   "execution_count": 551,
   "id": "0fd25034-00ca-4757-abd8-03f2d7837e3c",
   "metadata": {},
   "outputs": [],
   "source": [
    "train_loss = []\n",
    "val_loss = []"
   ]
  },
  {
   "cell_type": "code",
   "execution_count": 738,
   "id": "372e3bc2-f633-45cc-8f6f-314f88548f34",
   "metadata": {},
   "outputs": [
    {
     "name": "stdout",
     "output_type": "stream",
     "text": [
      "[3.584317684173584, 3.5842983722686768, 3.327155113220215, 3.3263580799102783, 2.3915600776672363, 2.3864357471466064, 2.338571548461914, 2.3477540016174316, 2.264305353164673] [3.6197457313537598, 3.619720697402954, 3.3595573902130127, 3.358657121658325, 2.407165288925171, 2.4015424251556396, 2.354567050933838, 2.3652303218841553, 2.2869210243225098]\n"
     ]
    }
   ],
   "source": [
    "print(train_loss, val_loss)"
   ]
  },
  {
   "cell_type": "code",
   "execution_count": 736,
   "id": "1a2a546e-4e0f-44f9-a494-81c5c985cc4e",
   "metadata": {},
   "outputs": [
    {
     "name": "stdout",
     "output_type": "stream",
     "text": [
      "2.264305353164673\n"
     ]
    }
   ],
   "source": [
    "#Evaluation on entire train test\n",
    "emb = C[Xtr]\n",
    "emb = emb.view(-1, emb.shape[1] * emb.shape[-1])\n",
    "h =  torch.tanh(emb @ w1 + b1)\n",
    "logits = h @ w2 + b2\n",
    "logits = logits @ w3\n",
    "loss = F.cross_entropy(logits, ytr)\n",
    "print(loss.item())\n",
    "train_loss.append(loss.item())"
   ]
  },
  {
   "cell_type": "code",
   "execution_count": 737,
   "id": "6975c779-88f3-41af-be2f-bf819c60b420",
   "metadata": {},
   "outputs": [
    {
     "name": "stdout",
     "output_type": "stream",
     "text": [
      "2.2869210243225098\n"
     ]
    }
   ],
   "source": [
    "#Evaluation on val set\n",
    "emb = C[Xval]\n",
    "emb = emb.view(-1, emb.shape[1] * emb.shape[-1])\n",
    "h =  torch.tanh(emb @ w1 + b1)\n",
    "logits = h @ w2 + b2\n",
    "logits = logits @ w3\n",
    "loss = F.cross_entropy(logits, yval)\n",
    "print(loss.item())\n",
    "val_loss.append(loss.item())"
   ]
  },
  {
   "cell_type": "code",
   "execution_count": 739,
   "id": "f0f6f98f-a0bc-4bbf-9113-5975928e206e",
   "metadata": {},
   "outputs": [
    {
     "name": "stdout",
     "output_type": "stream",
     "text": [
      "junide.\n",
      "jana.\n",
      "adha.\n",
      "cory.\n",
      "adin.\n",
      "kohin.\n",
      "toleigh.\n",
      "gee.\n",
      "kalinaa.\n",
      "yanilenias.\n",
      "dedainroy.\n",
      "bresson.\n",
      "evyla.\n",
      "terindelmekif.\n",
      "demmy.\n",
      "ponis.\n",
      "jahrian.\n",
      "reore.\n",
      "yaenon.\n",
      "kaenaed.\n"
     ]
    }
   ],
   "source": [
    "#inference\n",
    "g = torch.Generator().manual_seed(2147483647)\n",
    "def forward(X, name):\n",
    "    emb = C[X]\n",
    "    emb = emb.view(emb.shape[0] * emb.shape[-1])\n",
    "    h =  torch.tanh(emb @ w1 + b1)\n",
    "    logits = h @ w2 + b2\n",
    "    logits = logits @ w3\n",
    "    softmax = F.softmax(logits, dim = -1)\n",
    "    ix = torch.multinomial(softmax, num_samples = 1, generator = g)\n",
    "    predicted = itos[ix.item()]\n",
    "    name += predicted\n",
    "    if predicted == '.':\n",
    "        print(name)\n",
    "        return\n",
    "    X = torch.cat((X[1:], ix))\n",
    "    forward(X, name)\n",
    "\n",
    "for i in range(20):\n",
    "    X = torch.tensor([0,0,0])\n",
    "    forward(X, \"\")"
   ]
  },
  {
   "cell_type": "code",
   "execution_count": null,
   "id": "f5b3eb03-b8c1-4b19-84c4-69b724552297",
   "metadata": {},
   "outputs": [],
   "source": []
  },
  {
   "cell_type": "code",
   "execution_count": null,
   "id": "cae5ed6f-7f2b-42a1-9343-cc3eecf133cb",
   "metadata": {},
   "outputs": [],
   "source": []
  }
 ],
 "metadata": {
  "kernelspec": {
   "display_name": "Python 3 (ipykernel)",
   "language": "python",
   "name": "python3"
  },
  "language_info": {
   "codemirror_mode": {
    "name": "ipython",
    "version": 3
   },
   "file_extension": ".py",
   "mimetype": "text/x-python",
   "name": "python",
   "nbconvert_exporter": "python",
   "pygments_lexer": "ipython3",
   "version": "3.13.1"
  }
 },
 "nbformat": 4,
 "nbformat_minor": 5
}
