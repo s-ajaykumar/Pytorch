{
 "cells": [
  {
   "cell_type": "code",
   "execution_count": null,
   "id": "1095a31c-d350-4faa-8639-0bc1f8bc99ef",
   "metadata": {},
   "outputs": [],
   "source": [
    "pip install torch matplotlib numpy==1.26.4"
   ]
  },
  {
   "cell_type": "code",
   "execution_count": 1,
   "id": "8c1df543-0c57-4408-ad1b-6af98466d1d0",
   "metadata": {},
   "outputs": [],
   "source": [
    "import torch\n",
    "import torch.nn.functional as F\n",
    "import random\n",
    "import matplotlib.pyplot as plt"
   ]
  },
  {
   "cell_type": "markdown",
   "id": "542ce0ed-a7f5-42a6-864f-750a22ffc580",
   "metadata": {
    "jp-MarkdownHeadingCollapsed": true
   },
   "source": [
    "# EDA"
   ]
  },
  {
   "cell_type": "code",
   "execution_count": 2,
   "id": "dbd71faf-3534-456c-ae0f-144986b728b9",
   "metadata": {},
   "outputs": [
    {
     "name": "stdout",
     "output_type": "stream",
     "text": [
      "['emma', 'olivia', 'ava', 'isabella', 'sophia', 'charlotte', 'mia', 'amelia', 'harper', 'evelyn']\n",
      "['khole', 'harbour', 'devon', 'baine', 'erisha', 'ivani', 'hollyn', 'kristell', 'zyva', 'ella'] 25626 28829\n"
     ]
    }
   ],
   "source": [
    "words = open(\"/Users/outbell/Ajay/DeepLearning/GenAI/Pytorch/names.txt\").read().splitlines()\n",
    "print(words[:10])\n",
    "random.seed(2147483647)\n",
    "random.shuffle(words)\n",
    "n1 = int(0.8 * len(words))\n",
    "n2 = int(0.9 * len(words))\n",
    "print(words[:10], n1, n2)"
   ]
  },
  {
   "cell_type": "code",
   "execution_count": 3,
   "id": "f2511fed-b55d-4f8a-8f2d-cb2118c10669",
   "metadata": {},
   "outputs": [
    {
     "data": {
      "text/plain": [
       "32033"
      ]
     },
     "execution_count": 3,
     "metadata": {},
     "output_type": "execute_result"
    }
   ],
   "source": [
    "len(words)"
   ]
  },
  {
   "cell_type": "code",
   "execution_count": 4,
   "id": "e61d9466-fd31-4416-b09e-2eba39aff628",
   "metadata": {},
   "outputs": [
    {
     "data": {
      "text/plain": [
       "['a',\n",
       " 'b',\n",
       " 'c',\n",
       " 'd',\n",
       " 'e',\n",
       " 'f',\n",
       " 'g',\n",
       " 'h',\n",
       " 'i',\n",
       " 'j',\n",
       " 'k',\n",
       " 'l',\n",
       " 'm',\n",
       " 'n',\n",
       " 'o',\n",
       " 'p',\n",
       " 'q',\n",
       " 'r',\n",
       " 's',\n",
       " 't',\n",
       " 'u',\n",
       " 'v',\n",
       " 'w',\n",
       " 'x',\n",
       " 'y',\n",
       " 'z']"
      ]
     },
     "execution_count": 4,
     "metadata": {},
     "output_type": "execute_result"
    }
   ],
   "source": [
    "chars = []\n",
    "for w in words:\n",
    "    chars += list(w)\n",
    "chars = sorted(set(chars))\n",
    "chars"
   ]
  },
  {
   "cell_type": "markdown",
   "id": "6bf314ed-46da-4036-9502-9ca60b9e9c17",
   "metadata": {
    "jp-MarkdownHeadingCollapsed": true
   },
   "source": [
    "# Dataset Preprocessing"
   ]
  },
  {
   "cell_type": "code",
   "execution_count": 5,
   "id": "d2a1df55-8ad0-4f20-a749-3bec0791ec7a",
   "metadata": {},
   "outputs": [],
   "source": [
    "#vocab\n",
    "stoi = {ch : i+1 for i, ch in enumerate(chars)}\n",
    "itos = {i+1 : ch for i, ch in enumerate(chars)}\n",
    "stoi['.'] = 0\n",
    "itos[0] = '.' "
   ]
  },
  {
   "cell_type": "code",
   "execution_count": 6,
   "id": "d4dda33a-ddc5-4f77-b49b-ab5a326ba277",
   "metadata": {},
   "outputs": [
    {
     "data": {
      "text/plain": [
       "{1: 'a',\n",
       " 2: 'b',\n",
       " 3: 'c',\n",
       " 4: 'd',\n",
       " 5: 'e',\n",
       " 6: 'f',\n",
       " 7: 'g',\n",
       " 8: 'h',\n",
       " 9: 'i',\n",
       " 10: 'j',\n",
       " 11: 'k',\n",
       " 12: 'l',\n",
       " 13: 'm',\n",
       " 14: 'n',\n",
       " 15: 'o',\n",
       " 16: 'p',\n",
       " 17: 'q',\n",
       " 18: 'r',\n",
       " 19: 's',\n",
       " 20: 't',\n",
       " 21: 'u',\n",
       " 22: 'v',\n",
       " 23: 'w',\n",
       " 24: 'x',\n",
       " 25: 'y',\n",
       " 26: 'z',\n",
       " 0: '.'}"
      ]
     },
     "execution_count": 6,
     "metadata": {},
     "output_type": "execute_result"
    }
   ],
   "source": [
    "itos"
   ]
  },
  {
   "cell_type": "code",
   "execution_count": 7,
   "id": "62f4a5bb-3a5e-413e-8481-35935ccf11ab",
   "metadata": {},
   "outputs": [],
   "source": [
    "def build_dataset(words, block_size, stoi = stoi, itos = itos):\n",
    "    X = []\n",
    "    y = []\n",
    "    for w in words:\n",
    "        w += '.'\n",
    "        context = [0] * block_size\n",
    "        for ch in w:\n",
    "            ix = stoi[ch]\n",
    "            X.append(context)\n",
    "            y.append(ix)\n",
    "            context = context[1:] + [ix]\n",
    "    return torch.tensor(X), torch.tensor(y)\n",
    "        \n",
    "\n",
    "block_size = 3\n",
    "Xtr, ytr = build_dataset(words[:n1], block_size)\n",
    "Xval, yval = build_dataset(words[n1:n2], block_size)\n",
    "Xtest, ytest = build_dataset(words[n2:], block_size)"
   ]
  },
  {
   "cell_type": "code",
   "execution_count": 8,
   "id": "bc6f794d-4fa0-46e2-b453-31696f9982c9",
   "metadata": {},
   "outputs": [
    {
     "name": "stdout",
     "output_type": "stream",
     "text": [
      "torch.Size([182546, 3]) torch.Size([182546]) torch.Size([22840, 3]) torch.Size([22840]) torch.Size([22760, 3]) torch.Size([22760])\n"
     ]
    }
   ],
   "source": [
    "print(Xtr.shape, ytr.shape, Xval.shape, yval.shape, Xtest.shape, ytest.shape)"
   ]
  },
  {
   "cell_type": "markdown",
   "id": "b3a6fa33-3163-4c46-811b-90d4b94b0085",
   "metadata": {
    "jp-MarkdownHeadingCollapsed": true
   },
   "source": [
    "# Model Building"
   ]
  },
  {
   "cell_type": "code",
   "execution_count": 19,
   "id": "1a2a546e-4e0f-44f9-a494-81c5c985cc4e",
   "metadata": {},
   "outputs": [],
   "source": [
    "#Evaluate func\n",
    "def evaluate(l):\n",
    "    if l == \"train\":\n",
    "        Xd = Xtr\n",
    "        yd = ytr\n",
    "    elif l == \"val\":\n",
    "        Xd = Xval\n",
    "        yd = yval\n",
    "    emb = C[Xd]\n",
    "    emb = emb.view(-1, emb.shape[1] * emb.shape[-1])\n",
    "    hpreact = emb @ w1\n",
    "    hpreact = (hpreact - bnmean_running) / bnstd_running\n",
    "    hpreact = bngain * hpreact + bnbias\n",
    "    h =  torch.tanh(hpreact)\n",
    "    logits = h @ w2 + b2\n",
    "    loss = F.cross_entropy(logits, yd)\n",
    "    return loss.item()"
   ]
  },
  {
   "cell_type": "code",
   "execution_count": 10,
   "id": "9c08c768-4e4b-4b45-93f9-859593323f20",
   "metadata": {
    "scrolled": true
   },
   "outputs": [
    {
     "name": "stdout",
     "output_type": "stream",
     "text": [
      "tensor([0.0010, 0.0010, 0.0010,  ..., 0.9995, 0.9998, 1.0000])\n",
      "torch.Size([30000])\n"
     ]
    }
   ],
   "source": [
    "#lr\n",
    "lre = torch.linspace(-3, 0, (30000))\n",
    "lr = 10**lre\n",
    "print(lr) \n",
    "print(lr.shape)"
   ]
  },
  {
   "cell_type": "code",
   "execution_count": 12,
   "id": "911b129a-4898-4aac-aa2e-8735963428f8",
   "metadata": {},
   "outputs": [
    {
     "data": {
      "text/plain": [
       "tensor(-3.2958)"
      ]
     },
     "execution_count": 12,
     "metadata": {},
     "output_type": "execute_result"
    }
   ],
   "source": [
    "#Calculate initial loss\n",
    "torch.tensor(1/27.0).log()"
   ]
  },
  {
   "cell_type": "code",
   "execution_count": 187,
   "id": "20919eb5-7524-42c3-ad63-e4ab74106333",
   "metadata": {},
   "outputs": [
    {
     "data": {
      "text/plain": [
       "(array([201., 181., 194., 183., 148., 132., 144., 129., 120., 137., 109.,\n",
       "         85., 112.,  82., 120.,  84.,  94.,  79., 110., 103., 126.,  76.,\n",
       "        103.,  85.,  93., 123.,  86., 117.,  81.,  87., 102., 102., 114.,\n",
       "         93.,  95., 126., 110., 114., 102., 122., 150., 121., 132., 172.,\n",
       "        156., 181., 178., 201., 255., 250.]),\n",
       " array([-9.99439359e-01, -9.59458491e-01, -9.19477623e-01, -8.79496754e-01,\n",
       "        -8.39515886e-01, -7.99535018e-01, -7.59554150e-01, -7.19573282e-01,\n",
       "        -6.79592414e-01, -6.39611546e-01, -5.99630678e-01, -5.59649810e-01,\n",
       "        -5.19668941e-01, -4.79688073e-01, -4.39707205e-01, -3.99726337e-01,\n",
       "        -3.59745469e-01, -3.19764601e-01, -2.79783733e-01, -2.39802865e-01,\n",
       "        -1.99821997e-01, -1.59841129e-01, -1.19860260e-01, -7.98793924e-02,\n",
       "        -3.98985243e-02,  8.23438168e-05,  4.00632119e-02,  8.00440800e-02,\n",
       "         1.20024948e-01,  1.60005816e-01,  1.99986684e-01,  2.39967552e-01,\n",
       "         2.79948421e-01,  3.19929289e-01,  3.59910157e-01,  3.99891025e-01,\n",
       "         4.39871893e-01,  4.79852761e-01,  5.19833629e-01,  5.59814497e-01,\n",
       "         5.99795365e-01,  6.39776233e-01,  6.79757102e-01,  7.19737970e-01,\n",
       "         7.59718838e-01,  7.99699706e-01,  8.39680574e-01,  8.79661442e-01,\n",
       "         9.19642310e-01,  9.59623178e-01,  9.99604046e-01]),\n",
       " <BarContainer object of 50 artists>)"
      ]
     },
     "execution_count": 187,
     "metadata": {},
     "output_type": "execute_result"
    },
    {
     "data": {
      "image/png": "[encoded data removed]",
      "text/plain": [
       "<Figure size 900x400 with 1 Axes>"
      ]
     },
     "metadata": {},
     "output_type": "display_data"
    }
   ],
   "source": [
    "#Check activation distribution\n",
    "plt.figure(figsize = (9,4))\n",
    "plt.hist(h.view(-1).tolist(), 50)"
   ]
  },
  {
   "cell_type": "code",
   "execution_count": 178,
   "id": "45bf0042-76ac-4de5-be1f-75c4e8d2fc8a",
   "metadata": {},
   "outputs": [
    {
     "data": {
      "text/plain": [
       "<matplotlib.image.AxesImage at 0x1236d8170>"
      ]
     },
     "execution_count": 178,
     "metadata": {},
     "output_type": "execute_result"
    },
    {
     "data": {
      "image/png": "[encoded data removed]",
      "text/plain": [
       "<Figure size 1200x1300 with 1 Axes>"
      ]
     },
     "metadata": {},
     "output_type": "display_data"
    }
   ],
   "source": [
    "plt.figure(figsize = (12,13))\n",
    "plt.imshow(h.abs()> 0.99, cmap = \"gray\", interpolation = \"nearest\")"
   ]
  },
  {
   "cell_type": "code",
   "execution_count": 20,
   "id": "c41467de-e7eb-4f3f-860f-270654815dfe",
   "metadata": {},
   "outputs": [
    {
     "name": "stdout",
     "output_type": "stream",
     "text": [
      "Total Parameters:  12097\n"
     ]
    }
   ],
   "source": [
    "#parameters\n",
    "vocab_size = 27\n",
    "n_embd = 10\n",
    "block_size = 3\n",
    "n_hidden = 200\n",
    "g = torch.Generator().manual_seed(2147483647)\n",
    "C = torch.randn((vocab_size, n_embd), generator = g)\n",
    "w1 = torch.randn((block_size * n_embd, n_hidden), generator = g) * (5/3)/(block_size * n_embd)**0.5\n",
    "#b1 = torch.randn(n_hidden, generator = g) * 0.01\n",
    "w2 = torch.randn((n_hidden, vocab_size), generator = g) * 0.01\n",
    "b2 = torch.randn(vocab_size, generator = g) * 0\n",
    "bngain = torch.ones((1, n_hidden))\n",
    "bnbias = torch.zeros((1, n_hidden))\n",
    "bnmean_running = torch.zeros((1, n_hidden))\n",
    "bnstd_running = torch.zeros((1, n_hidden))\n",
    "parameters = [C, w1, w2, b2, bngain, bnbias]\n",
    "for p in parameters:\n",
    "    p.requires_grad = True\n",
    "print(\"Total Parameters: \", sum([p.nelement() for p in parameters]))"
   ]
  },
  {
   "cell_type": "code",
   "execution_count": 23,
   "id": "34159987-f52f-49df-a96f-48300ec8671b",
   "metadata": {},
   "outputs": [
    {
     "name": "stdout",
     "output_type": "stream",
     "text": [
      "2.1396102905273438\n",
      "2.123446226119995\n",
      "2.1221020221710205\n",
      "2.121006727218628\n",
      "2.119971752166748\n",
      "2.1191835403442383\n",
      "2.1185214519500732\n",
      "2.118185520172119\n",
      "2.117278814315796\n",
      "2.116084575653076\n"
     ]
    }
   ],
   "source": [
    "#Train\n",
    "#lr_ls = []\n",
    "loss_ls = []\n",
    "step_ls = []\n",
    "\n",
    "for i in range(100000):\n",
    "    #Mini batch extract\n",
    "    ix = torch.randint(0, Xtr.shape[0], (32, ))\n",
    "    \n",
    "    #Forward pass\n",
    "    emb = C[Xtr[ix]]\n",
    "    emb = emb.view(-1, emb.shape[1] * emb.shape[-1])\n",
    "    \n",
    "    #Linear Layer\n",
    "    hpreact = emb @ w1 #+ b1\n",
    "\n",
    "    #BatchNorm Layer\n",
    "    bnmeani = hpreact.mean(0, keepdims = True)\n",
    "    bnstdi = hpreact.std(0, keepdims = True)\n",
    "    hpreact = (hpreact - bnmeani) / bnstdi\n",
    "    hpreact = (bngain * hpreact) + bnbias\n",
    "    with torch.no_grad():\n",
    "        bnmean_running = (0.999 * bnmean_running) + (bnmeani * 0.001)\n",
    "        bnstd_running = (0.999 * bnstd_running) + (bnstdi * 0.001)\n",
    "        \n",
    "    #Non-Linear Layer\n",
    "    h =  torch.tanh(hpreact)\n",
    "    logits = h @ w2 + b2\n",
    "    loss = F.cross_entropy(logits, ytr[ix])\n",
    "    \n",
    "    #Backward pass\n",
    "    for p in parameters:\n",
    "        p.grad = None\n",
    "    loss.backward()\n",
    "\n",
    "    #Weight Update\n",
    "    for p in parameters:\n",
    "       p.data += -0.002 * p.grad\n",
    "\n",
    "    #Track stats\n",
    "    loss_ls.append(loss.item())\n",
    "    step_ls.append(i)\n",
    "    #lr_ls.append(lre[i].item())\n",
    "    \n",
    "    if i%10000 == 0:\n",
    "        train_loss = evaluate(\"train\")\n",
    "        print(train_loss)"
   ]
  },
  {
   "cell_type": "code",
   "execution_count": 24,
   "id": "fa527c5b-9b02-442b-bb0b-e5f74c179186",
   "metadata": {},
   "outputs": [
    {
     "data": {
      "text/plain": [
       "2.1568384170532227"
      ]
     },
     "execution_count": 24,
     "metadata": {},
     "output_type": "execute_result"
    }
   ],
   "source": [
    "val_loss = evaluate(\"val\")\n",
    "val_loss"
   ]
  },
  {
   "cell_type": "code",
   "execution_count": 111,
   "id": "9a3c7116-73ce-4ee4-b5a5-ff09656b0e07",
   "metadata": {},
   "outputs": [
    {
     "data": {
      "text/plain": [
       "[<matplotlib.lines.Line2D at 0x116ca88f0>]"
      ]
     },
     "execution_count": 111,
     "metadata": {},
     "output_type": "execute_result"
    },
    {
     "data": {
      "image/png": "[encoded data removed]",
      "text/plain": [
       "<Figure size 640x480 with 1 Axes>"
      ]
     },
     "metadata": {},
     "output_type": "display_data"
    }
   ],
   "source": [
    "plt.plot(step_ls, loss_ls)"
   ]
  },
  {
   "cell_type": "raw",
   "id": "0adbd760-3a52-4821-808e-5e13333f53a4",
   "metadata": {},
   "source": [
    "                          train_loss       val_loss\n",
    "m1 - original          -    2.23             2.25\n",
    "m2 - red_initial_loss  -    2.13             2.17\n",
    "m3 - init_kaimming     -    2.08             2.13\n",
    "m4 - BatchNorm         -    2.11             2.15"
   ]
  },
  {
   "cell_type": "code",
   "execution_count": 108,
   "id": "f0f6f98f-a0bc-4bbf-9113-5975928e206e",
   "metadata": {},
   "outputs": [],
   "source": [
    "#inference\n",
    "g = torch.Generator().manual_seed(2147483647)\n",
    "names = []\n",
    "def forward(X, name):\n",
    "    emb = C[X]\n",
    "    emb = emb.view(1, emb.shape[0]*emb.shape[1])\n",
    "    hpreact = emb @ w1\n",
    "    hpreact = (hpreact - bnmean_running) / bnstd_running\n",
    "    hpreact = bngain * hpreact + bnbias\n",
    "    h =  torch.tanh(hpreact)\n",
    "    logits = h @ w2 + b2\n",
    "    softmax = F.softmax(logits, dim = -1)\n",
    "    ix = torch.multinomial(softmax, num_samples = 1, generator = g)\n",
    "    predicted = itos[ix.item()]\n",
    "    name += predicted\n",
    "    if predicted == '.':\n",
    "        names.append(name)\n",
    "        return\n",
    "    X = torch.cat((X[1:], ix.view(1)))\n",
    "    forward(X, name)\n",
    "\n",
    "for i in range(20):\n",
    "    X = torch.tensor([0,0,0])\n",
    "    forward(X, \"\")"
   ]
  },
  {
   "cell_type": "code",
   "execution_count": 109,
   "id": "3634ef5d-d347-4c60-9eca-20fd9306c3c4",
   "metadata": {},
   "outputs": [
    {
     "data": {
      "text/plain": [
       "['junide.',\n",
       " 'jakarie.',\n",
       " 'pres.',\n",
       " 'amaina.',\n",
       " 'kai.',\n",
       " 'ritolett.',\n",
       " 'juet.',\n",
       " 'kalinaa.',\n",
       " 'zamilena.',\n",
       " 'jedeyainrwie.',\n",
       " 'lesson.',\n",
       " 'evy.',\n",
       " 'arte.',\n",
       " 'farmunthya.',\n",
       " 'demmernon.',\n",
       " 'sumah.',\n",
       " 'jaylie.',\n",
       " 'raaya.',\n",
       " 'jocely.',\n",
       " 'jamiyandimoun.']"
      ]
     },
     "execution_count": 109,
     "metadata": {},
     "output_type": "execute_result"
    }
   ],
   "source": [
    "names"
   ]
  }
 ],
 "metadata": {
  "kernelspec": {
   "display_name": "Python 3 (ipykernel)",
   "language": "python",
   "name": "python3"
  },
  "language_info": {
   "codemirror_mode": {
    "name": "ipython",
    "version": 3
   },
   "file_extension": ".py",
   "mimetype": "text/x-python",
   "name": "python",
   "nbconvert_exporter": "python",
   "pygments_lexer": "ipython3",
   "version": "3.12.8"
  }
 },
 "nbformat": 4,
 "nbformat_minor": 5
}
